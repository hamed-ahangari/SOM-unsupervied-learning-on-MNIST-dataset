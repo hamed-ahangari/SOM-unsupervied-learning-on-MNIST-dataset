{
  "nbformat": 4,
  "nbformat_minor": 0,
  "metadata": {
    "colab": {
      "name": "P1_linear_random.ipynb",
      "provenance": [],
      "collapsed_sections": []
    },
    "kernelspec": {
      "name": "python3",
      "display_name": "Python 3"
    }
  },
  "cells": [
    {
      "cell_type": "markdown",
      "metadata": {
        "id": "Zakl7Hifh1mk"
      },
      "source": [
        "# **SOM** - Linear map & Random initialization of weights"
      ]
    },
    {
      "cell_type": "markdown",
      "metadata": {
        "id": "muYw_L1biUei"
      },
      "source": [
        "## Import libraries"
      ]
    },
    {
      "cell_type": "code",
      "metadata": {
        "id": "_NP7rIqGtE9m"
      },
      "source": [
        "import numpy as np\n",
        "from keras.datasets import mnist\n",
        "from matplotlib import pyplot as plt\n",
        "import time\n",
        "from math import exp\n"
      ],
      "execution_count": 1,
      "outputs": []
    },
    {
      "cell_type": "markdown",
      "metadata": {
        "id": "lSQoVo9QinJz"
      },
      "source": [
        "## Load the dataset"
      ]
    },
    {
      "cell_type": "code",
      "metadata": {
        "id": "QRLznBSIioma"
      },
      "source": [
        "iterations = 20\n",
        "\n",
        "(_, _), (test_images, test_labels) = mnist.load_data()\n",
        "\n",
        "reduced_mnist_images = [test_images[np.random.choice(a=np.where(test_labels == j)[0], size=100)] for j in range(10)]\n",
        "reduced_mnist_images = np.array(reduced_mnist_images, dtype='float32') / 255\n",
        "\n",
        "reduced_mnist_images = reduced_mnist_images.reshape((1000, 784))\n",
        "reduced_mnist_labels = np.array([100*[i] for i in range(10)], dtype='int').flatten()\n",
        "\n",
        "shuffled_indices = np.random.permutation(np.arange(1000))\n",
        "\n",
        "reduced_mnist_images = reduced_mnist_images[shuffled_indices]\n",
        "reduced_mnist_labels = reduced_mnist_labels[shuffled_indices]"
      ],
      "execution_count": 2,
      "outputs": []
    },
    {
      "cell_type": "markdown",
      "metadata": {
        "id": "SjNo6LrUjAuS"
      },
      "source": [
        "## Implementation"
      ]
    },
    {
      "cell_type": "code",
      "metadata": {
        "id": "OP0O_Yf-XiFA"
      },
      "source": [
        "def learning_rate_generator_with_decay():\n",
        "   global iterations\n",
        "   time = 0\n",
        "   while True:\n",
        "       yield (1 - (time/iterations))\n",
        "       time += 1"
      ],
      "execution_count": 3,
      "outputs": []
    },
    {
      "cell_type": "code",
      "metadata": {
        "id": "1U4nxMPfgC2x",
        "colab": {
          "base_uri": "https://localhost:8080/",
          "height": 281
        },
        "outputId": "3289c813-c82b-4d4f-f2ca-05d441c7a038"
      },
      "source": [
        "lr_list = []\n",
        "lr_with_decay = learning_rate_generator_with_decay()\n",
        "for i in range(iterations):\n",
        "    lr_list.append(next(lr_with_decay))\n",
        "\n",
        "plt.plot(list(range(iterations)),lr_list)\n",
        "plt.title(\"Learning Rate function projection\")\n",
        "plt.show()"
      ],
      "execution_count": 4,
      "outputs": [
        {
          "output_type": "display_data",
          "data": {
            "image/png": "[encoded data removed]",
            "text/plain": [
              "<Figure size 432x288 with 1 Axes>"
            ]
          },
          "metadata": {
            "tags": [],
            "needs_background": "light"
          }
        }
      ]
    },
    {
      "cell_type": "code",
      "metadata": {
        "id": "5kZRK7RnZGT3"
      },
      "source": [
        "# Define and fill the weight matrix\n",
        "# the dimensions are 784 (input size) by 625 (neurons/clusters)\n",
        "som_weight_matrix = np.random.rand(784, 625) / 10"
      ],
      "execution_count": 5,
      "outputs": []
    },
    {
      "cell_type": "code",
      "metadata": {
        "id": "Wj2zV8xc6XEM",
        "colab": {
          "base_uri": "https://localhost:8080/"
        },
        "outputId": "ffc3e9e6-5125-4bac-badb-b9fbf56e00b1"
      },
      "source": [
        "lr_with_decay = learning_rate_generator_with_decay()    # instantiate a lr generator\n",
        "\n",
        "weights_snapshot = {0 : som_weight_matrix.copy()}   # snapshot for some epochs\n",
        "coverage_history = np.zeros((iterations+1, 625), dtype=bool)\n",
        "\n",
        "winning_counts = dict()\n",
        "winning_classes_counts = dict()\n",
        "\n",
        "for epoch in range(iterations):\n",
        "\n",
        "    lr = next(lr_with_decay)    # Get new learning rate value\n",
        "\n",
        "    start = time.time()     # start the timer\n",
        "\n",
        "    for x in range(1000):    \n",
        "\n",
        "        # Calculate Euclidean distance for all neurons\n",
        "        distance_matrix = np.sqrt(((som_weight_matrix.transpose() - reduced_mnist_images[x])**2).sum(axis = 1))\n",
        "\n",
        "        # Find index of minimum distance\n",
        "        winner_unit = np.argmin(distance_matrix)\n",
        "        coverage_history[epoch, winner_unit] = True\n",
        "\n",
        "        # Update the neuron's weights\n",
        "        dif = reduced_mnist_images[x] - som_weight_matrix[:, winner_unit]\n",
        "        som_weight_matrix[:, winner_unit] += (dif * lr)\n",
        "        \n",
        "        # If it is the last epoch, we want to store the winning statistics of neurons\n",
        "        if epoch + 1 == iterations:\n",
        "            winning_counts[winner_unit] = winning_counts.get(winner_unit, 0) + 1\n",
        "            winning_classes_counts[(winner_unit, reduced_mnist_labels[x])] = winning_classes_counts.get((winner_unit, reduced_mnist_labels[x]), 0) + 1\n",
        "    \n",
        "    end = time.time()\n",
        "    print(\"epoch %d - %.3f s\" % (epoch + 1, end - start))\n",
        "\n",
        "    weights_snapshot[epoch + 1] = som_weight_matrix.copy()\n",
        "\n"
      ],
      "execution_count": 6,
      "outputs": [
        {
          "output_type": "stream",
          "text": [
            "epoch 1 - 1.396 s\n",
            "epoch 2 - 1.400 s\n",
            "epoch 3 - 1.429 s\n",
            "epoch 4 - 1.275 s\n",
            "epoch 5 - 1.307 s\n",
            "epoch 6 - 1.321 s\n",
            "epoch 7 - 1.332 s\n",
            "epoch 8 - 1.406 s\n",
            "epoch 9 - 1.577 s\n",
            "epoch 10 - 1.621 s\n",
            "epoch 11 - 1.542 s\n",
            "epoch 12 - 1.544 s\n",
            "epoch 13 - 1.563 s\n",
            "epoch 14 - 1.560 s\n",
            "epoch 15 - 1.548 s\n",
            "epoch 16 - 1.567 s\n",
            "epoch 17 - 1.556 s\n",
            "epoch 18 - 1.571 s\n",
            "epoch 19 - 1.562 s\n",
            "epoch 20 - 1.575 s\n"
          ],
          "name": "stdout"
        }
      ]
    },
    {
      "cell_type": "markdown",
      "metadata": {
        "id": "JmBVWZlwtCWh"
      },
      "source": [
        "### Show twenty neurons with the most winnings at the last epoch"
      ]
    },
    {
      "cell_type": "code",
      "metadata": {
        "id": "IdoqfnyNE2GH",
        "colab": {
          "base_uri": "https://localhost:8080/",
          "height": 652
        },
        "outputId": "3ffa4552-78d2-4390-931f-1a4d2915a59b"
      },
      "source": [
        "twenty_neurons_with_most_winning = [k for k, v in sorted(winning_counts.items(), key=lambda item: item[1], reverse = True)][:20]\n",
        "\n",
        "stat_table = np.zeros((20,10), dtype='int')\n",
        "\n",
        "for i, neu in enumerate(twenty_neurons_with_most_winning):\n",
        "    for class_label in range(0, 10):\n",
        "        stat_table[i][class_label] = winning_classes_counts.get((neu, class_label), 0)\n",
        "\n",
        "import pandas as pd \n",
        "\n",
        "df = pd.DataFrame(stat_table, index=twenty_neurons_with_most_winning, columns=['label {0}'.format(i) for i in range(0,10)])\n",
        "df['Total'] = df.sum(axis=1)\n",
        "print(\"Total sum:  %d images\" % df['Total'].sum())\n",
        "df"
      ],
      "execution_count": 7,
      "outputs": [
        {
          "output_type": "stream",
          "text": [
            "Total sum:  271 images\n"
          ],
          "name": "stdout"
        },
        {
          "output_type": "execute_result",
          "data": {
            "text/html": [
              "<div>\n",
              "<style scoped>\n",
              "    .dataframe tbody tr th:only-of-type {\n",
              "        vertical-align: middle;\n",
              "    }\n",
              "\n",
              "    .dataframe tbody tr th {\n",
              "        vertical-align: top;\n",
              "    }\n",
              "\n",
              "    .dataframe thead th {\n",
              "        text-align: right;\n",
              "    }\n",
              "</style>\n",
              "<table border=\"1\" class=\"dataframe\">\n",
              "  <thead>\n",
              "    <tr style=\"text-align: right;\">\n",
              "      <th></th>\n",
              "      <th>label 0</th>\n",
              "      <th>label 1</th>\n",
              "      <th>label 2</th>\n",
              "      <th>label 3</th>\n",
              "      <th>label 4</th>\n",
              "      <th>label 5</th>\n",
              "      <th>label 6</th>\n",
              "      <th>label 7</th>\n",
              "      <th>label 8</th>\n",
              "      <th>label 9</th>\n",
              "      <th>Total</th>\n",
              "    </tr>\n",
              "  </thead>\n",
              "  <tbody>\n",
              "    <tr>\n",
              "      <th>612</th>\n",
              "      <td>0</td>\n",
              "      <td>32</td>\n",
              "      <td>0</td>\n",
              "      <td>0</td>\n",
              "      <td>1</td>\n",
              "      <td>0</td>\n",
              "      <td>0</td>\n",
              "      <td>0</td>\n",
              "      <td>0</td>\n",
              "      <td>0</td>\n",
              "      <td>33</td>\n",
              "    </tr>\n",
              "    <tr>\n",
              "      <th>389</th>\n",
              "      <td>0</td>\n",
              "      <td>23</td>\n",
              "      <td>0</td>\n",
              "      <td>0</td>\n",
              "      <td>0</td>\n",
              "      <td>0</td>\n",
              "      <td>0</td>\n",
              "      <td>0</td>\n",
              "      <td>0</td>\n",
              "      <td>0</td>\n",
              "      <td>23</td>\n",
              "    </tr>\n",
              "    <tr>\n",
              "      <th>332</th>\n",
              "      <td>0</td>\n",
              "      <td>0</td>\n",
              "      <td>0</td>\n",
              "      <td>0</td>\n",
              "      <td>0</td>\n",
              "      <td>0</td>\n",
              "      <td>0</td>\n",
              "      <td>15</td>\n",
              "      <td>0</td>\n",
              "      <td>2</td>\n",
              "      <td>17</td>\n",
              "    </tr>\n",
              "    <tr>\n",
              "      <th>444</th>\n",
              "      <td>0</td>\n",
              "      <td>16</td>\n",
              "      <td>0</td>\n",
              "      <td>0</td>\n",
              "      <td>0</td>\n",
              "      <td>0</td>\n",
              "      <td>0</td>\n",
              "      <td>0</td>\n",
              "      <td>0</td>\n",
              "      <td>0</td>\n",
              "      <td>16</td>\n",
              "    </tr>\n",
              "    <tr>\n",
              "      <th>27</th>\n",
              "      <td>0</td>\n",
              "      <td>0</td>\n",
              "      <td>2</td>\n",
              "      <td>0</td>\n",
              "      <td>0</td>\n",
              "      <td>0</td>\n",
              "      <td>0</td>\n",
              "      <td>13</td>\n",
              "      <td>0</td>\n",
              "      <td>1</td>\n",
              "      <td>16</td>\n",
              "    </tr>\n",
              "    <tr>\n",
              "      <th>585</th>\n",
              "      <td>0</td>\n",
              "      <td>0</td>\n",
              "      <td>0</td>\n",
              "      <td>0</td>\n",
              "      <td>5</td>\n",
              "      <td>1</td>\n",
              "      <td>0</td>\n",
              "      <td>1</td>\n",
              "      <td>0</td>\n",
              "      <td>8</td>\n",
              "      <td>15</td>\n",
              "    </tr>\n",
              "    <tr>\n",
              "      <th>119</th>\n",
              "      <td>14</td>\n",
              "      <td>0</td>\n",
              "      <td>0</td>\n",
              "      <td>0</td>\n",
              "      <td>0</td>\n",
              "      <td>0</td>\n",
              "      <td>0</td>\n",
              "      <td>0</td>\n",
              "      <td>0</td>\n",
              "      <td>0</td>\n",
              "      <td>14</td>\n",
              "    </tr>\n",
              "    <tr>\n",
              "      <th>607</th>\n",
              "      <td>0</td>\n",
              "      <td>0</td>\n",
              "      <td>0</td>\n",
              "      <td>0</td>\n",
              "      <td>0</td>\n",
              "      <td>0</td>\n",
              "      <td>0</td>\n",
              "      <td>6</td>\n",
              "      <td>0</td>\n",
              "      <td>7</td>\n",
              "      <td>13</td>\n",
              "    </tr>\n",
              "    <tr>\n",
              "      <th>482</th>\n",
              "      <td>0</td>\n",
              "      <td>0</td>\n",
              "      <td>0</td>\n",
              "      <td>0</td>\n",
              "      <td>3</td>\n",
              "      <td>0</td>\n",
              "      <td>0</td>\n",
              "      <td>0</td>\n",
              "      <td>0</td>\n",
              "      <td>9</td>\n",
              "      <td>12</td>\n",
              "    </tr>\n",
              "    <tr>\n",
              "      <th>204</th>\n",
              "      <td>0</td>\n",
              "      <td>0</td>\n",
              "      <td>0</td>\n",
              "      <td>0</td>\n",
              "      <td>0</td>\n",
              "      <td>0</td>\n",
              "      <td>12</td>\n",
              "      <td>0</td>\n",
              "      <td>0</td>\n",
              "      <td>0</td>\n",
              "      <td>12</td>\n",
              "    </tr>\n",
              "    <tr>\n",
              "      <th>620</th>\n",
              "      <td>0</td>\n",
              "      <td>0</td>\n",
              "      <td>0</td>\n",
              "      <td>0</td>\n",
              "      <td>0</td>\n",
              "      <td>0</td>\n",
              "      <td>12</td>\n",
              "      <td>0</td>\n",
              "      <td>0</td>\n",
              "      <td>0</td>\n",
              "      <td>12</td>\n",
              "    </tr>\n",
              "    <tr>\n",
              "      <th>122</th>\n",
              "      <td>0</td>\n",
              "      <td>11</td>\n",
              "      <td>0</td>\n",
              "      <td>0</td>\n",
              "      <td>0</td>\n",
              "      <td>0</td>\n",
              "      <td>0</td>\n",
              "      <td>0</td>\n",
              "      <td>0</td>\n",
              "      <td>0</td>\n",
              "      <td>11</td>\n",
              "    </tr>\n",
              "    <tr>\n",
              "      <th>279</th>\n",
              "      <td>1</td>\n",
              "      <td>0</td>\n",
              "      <td>0</td>\n",
              "      <td>0</td>\n",
              "      <td>0</td>\n",
              "      <td>0</td>\n",
              "      <td>10</td>\n",
              "      <td>0</td>\n",
              "      <td>0</td>\n",
              "      <td>0</td>\n",
              "      <td>11</td>\n",
              "    </tr>\n",
              "    <tr>\n",
              "      <th>287</th>\n",
              "      <td>0</td>\n",
              "      <td>1</td>\n",
              "      <td>0</td>\n",
              "      <td>0</td>\n",
              "      <td>3</td>\n",
              "      <td>0</td>\n",
              "      <td>0</td>\n",
              "      <td>5</td>\n",
              "      <td>0</td>\n",
              "      <td>1</td>\n",
              "      <td>10</td>\n",
              "    </tr>\n",
              "    <tr>\n",
              "      <th>75</th>\n",
              "      <td>0</td>\n",
              "      <td>0</td>\n",
              "      <td>0</td>\n",
              "      <td>0</td>\n",
              "      <td>1</td>\n",
              "      <td>0</td>\n",
              "      <td>0</td>\n",
              "      <td>4</td>\n",
              "      <td>0</td>\n",
              "      <td>5</td>\n",
              "      <td>10</td>\n",
              "    </tr>\n",
              "    <tr>\n",
              "      <th>79</th>\n",
              "      <td>1</td>\n",
              "      <td>0</td>\n",
              "      <td>0</td>\n",
              "      <td>0</td>\n",
              "      <td>0</td>\n",
              "      <td>0</td>\n",
              "      <td>0</td>\n",
              "      <td>7</td>\n",
              "      <td>0</td>\n",
              "      <td>2</td>\n",
              "      <td>10</td>\n",
              "    </tr>\n",
              "    <tr>\n",
              "      <th>470</th>\n",
              "      <td>0</td>\n",
              "      <td>0</td>\n",
              "      <td>0</td>\n",
              "      <td>0</td>\n",
              "      <td>0</td>\n",
              "      <td>0</td>\n",
              "      <td>0</td>\n",
              "      <td>0</td>\n",
              "      <td>9</td>\n",
              "      <td>0</td>\n",
              "      <td>9</td>\n",
              "    </tr>\n",
              "    <tr>\n",
              "      <th>184</th>\n",
              "      <td>0</td>\n",
              "      <td>0</td>\n",
              "      <td>0</td>\n",
              "      <td>0</td>\n",
              "      <td>0</td>\n",
              "      <td>0</td>\n",
              "      <td>0</td>\n",
              "      <td>9</td>\n",
              "      <td>0</td>\n",
              "      <td>0</td>\n",
              "      <td>9</td>\n",
              "    </tr>\n",
              "    <tr>\n",
              "      <th>584</th>\n",
              "      <td>0</td>\n",
              "      <td>0</td>\n",
              "      <td>0</td>\n",
              "      <td>0</td>\n",
              "      <td>7</td>\n",
              "      <td>0</td>\n",
              "      <td>0</td>\n",
              "      <td>0</td>\n",
              "      <td>0</td>\n",
              "      <td>2</td>\n",
              "      <td>9</td>\n",
              "    </tr>\n",
              "    <tr>\n",
              "      <th>174</th>\n",
              "      <td>0</td>\n",
              "      <td>8</td>\n",
              "      <td>0</td>\n",
              "      <td>0</td>\n",
              "      <td>0</td>\n",
              "      <td>0</td>\n",
              "      <td>1</td>\n",
              "      <td>0</td>\n",
              "      <td>0</td>\n",
              "      <td>0</td>\n",
              "      <td>9</td>\n",
              "    </tr>\n",
              "  </tbody>\n",
              "</table>\n",
              "</div>"
            ],
            "text/plain": [
              "     label 0  label 1  label 2  label 3  ...  label 7  label 8  label 9  Total\n",
              "612        0       32        0        0  ...        0        0        0     33\n",
              "389        0       23        0        0  ...        0        0        0     23\n",
              "332        0        0        0        0  ...       15        0        2     17\n",
              "444        0       16        0        0  ...        0        0        0     16\n",
              "27         0        0        2        0  ...       13        0        1     16\n",
              "585        0        0        0        0  ...        1        0        8     15\n",
              "119       14        0        0        0  ...        0        0        0     14\n",
              "607        0        0        0        0  ...        6        0        7     13\n",
              "482        0        0        0        0  ...        0        0        9     12\n",
              "204        0        0        0        0  ...        0        0        0     12\n",
              "620        0        0        0        0  ...        0        0        0     12\n",
              "122        0       11        0        0  ...        0        0        0     11\n",
              "279        1        0        0        0  ...        0        0        0     11\n",
              "287        0        1        0        0  ...        5        0        1     10\n",
              "75         0        0        0        0  ...        4        0        5     10\n",
              "79         1        0        0        0  ...        7        0        2     10\n",
              "470        0        0        0        0  ...        0        9        0      9\n",
              "184        0        0        0        0  ...        9        0        0      9\n",
              "584        0        0        0        0  ...        0        0        2      9\n",
              "174        0        8        0        0  ...        0        0        0      9\n",
              "\n",
              "[20 rows x 11 columns]"
            ]
          },
          "metadata": {
            "tags": []
          },
          "execution_count": 7
        }
      ]
    },
    {
      "cell_type": "markdown",
      "metadata": {
        "id": "MDD_hvxhjuZC"
      },
      "source": [
        "### Generate and save figures"
      ]
    },
    {
      "cell_type": "code",
      "metadata": {
        "id": "A7DMu1Bm8E5Y"
      },
      "source": [
        "import os\n",
        "os.makedirs('./linear-topology_random-weights/', exist_ok=True)"
      ],
      "execution_count": 8,
      "outputs": []
    },
    {
      "cell_type": "code",
      "metadata": {
        "id": "Uo4pFATVPFOU",
        "colab": {
          "base_uri": "https://localhost:8080/"
        },
        "outputId": "b4d6a5bf-d30f-446b-d8fa-de9d6f133089"
      },
      "source": [
        "for epoch, weight_mat in weights_snapshot.items():\n",
        "    fig = plt.figure(figsize=(17,17))\n",
        "    axes = [fig.add_subplot(25,25,i+1) for i in range(625)]\n",
        "\n",
        "    for n, ax in enumerate(axes):\n",
        "        ax.imshow(weight_mat[:,n].reshape((28,28)), cmap=(\"gray_r\" if coverage_history[epoch, n] == False else \"plasma\"))\n",
        "\n",
        "        ax.set_xticklabels([])\n",
        "        ax.set_yticklabels([])\n",
        "        ax.set_aspect('equal')\n",
        "        if n >= 600: ax.set_xlabel(n%25 + 1)\n",
        "        if n%25==0: ax.set_ylabel(n//25 + 1)\n",
        "        ax.tick_params(axis='both', which='both', length=0)\n",
        "        ax.label_outer\n",
        "\n",
        "    fig.subplots_adjust(wspace=0, hspace=0)\n",
        "    fig.suptitle(\"Epoch %d - [Linear Topology , Random Weights initialization]\" % epoch, fontsize=18)\n",
        "\n",
        "    # write the figure for this epoch on disk\n",
        "    path = f\"./linear-topology_random-weights/epoch-{epoch}\"\n",
        "    fig.savefig(path)\n",
        "    plt.close(fig)\n",
        "\n",
        "    print(f\"Saved: {path}.png\")"
      ],
      "execution_count": 9,
      "outputs": [
        {
          "output_type": "stream",
          "text": [
            "Saved: ./linear-topology_random-weights/epoch-0.png\n",
            "Saved: ./linear-topology_random-weights/epoch-1.png\n",
            "Saved: ./linear-topology_random-weights/epoch-2.png\n",
            "Saved: ./linear-topology_random-weights/epoch-3.png\n",
            "Saved: ./linear-topology_random-weights/epoch-4.png\n",
            "Saved: ./linear-topology_random-weights/epoch-5.png\n",
            "Saved: ./linear-topology_random-weights/epoch-6.png\n",
            "Saved: ./linear-topology_random-weights/epoch-7.png\n",
            "Saved: ./linear-topology_random-weights/epoch-8.png\n",
            "Saved: ./linear-topology_random-weights/epoch-9.png\n",
            "Saved: ./linear-topology_random-weights/epoch-10.png\n",
            "Saved: ./linear-topology_random-weights/epoch-11.png\n",
            "Saved: ./linear-topology_random-weights/epoch-12.png\n",
            "Saved: ./linear-topology_random-weights/epoch-13.png\n",
            "Saved: ./linear-topology_random-weights/epoch-14.png\n",
            "Saved: ./linear-topology_random-weights/epoch-15.png\n",
            "Saved: ./linear-topology_random-weights/epoch-16.png\n",
            "Saved: ./linear-topology_random-weights/epoch-17.png\n",
            "Saved: ./linear-topology_random-weights/epoch-18.png\n",
            "Saved: ./linear-topology_random-weights/epoch-19.png\n",
            "Saved: ./linear-topology_random-weights/epoch-20.png\n"
          ],
          "name": "stdout"
        }
      ]
    },
    {
      "cell_type": "code",
      "metadata": {
        "id": "dQ7uxdeEnf8q",
        "colab": {
          "base_uri": "https://localhost:8080/"
        },
        "outputId": "f859a936-4076-452b-8fa2-d02199e8d000"
      },
      "source": [
        "!zip -r linear_random.zip /content/linear-topology_random-weights"
      ],
      "execution_count": 10,
      "outputs": [
        {
          "output_type": "stream",
          "text": [
            "  adding: content/linear-topology_random-weights/ (stored 0%)\n",
            "  adding: content/linear-topology_random-weights/epoch-20.png (deflated 13%)\n",
            "  adding: content/linear-topology_random-weights/epoch-14.png (deflated 9%)\n",
            "  adding: content/linear-topology_random-weights/epoch-13.png (deflated 9%)\n",
            "  adding: content/linear-topology_random-weights/epoch-3.png (deflated 9%)\n",
            "  adding: content/linear-topology_random-weights/epoch-5.png (deflated 9%)\n",
            "  adding: content/linear-topology_random-weights/epoch-4.png (deflated 9%)\n",
            "  adding: content/linear-topology_random-weights/epoch-10.png (deflated 9%)\n",
            "  adding: content/linear-topology_random-weights/epoch-6.png (deflated 9%)\n",
            "  adding: content/linear-topology_random-weights/epoch-2.png (deflated 9%)\n",
            "  adding: content/linear-topology_random-weights/epoch-0.png (deflated 8%)\n",
            "  adding: content/linear-topology_random-weights/epoch-18.png (deflated 9%)\n",
            "  adding: content/linear-topology_random-weights/epoch-11.png (deflated 9%)\n",
            "  adding: content/linear-topology_random-weights/epoch-1.png (deflated 9%)\n",
            "  adding: content/linear-topology_random-weights/epoch-7.png (deflated 9%)\n",
            "  adding: content/linear-topology_random-weights/epoch-12.png (deflated 9%)\n",
            "  adding: content/linear-topology_random-weights/epoch-9.png (deflated 9%)\n",
            "  adding: content/linear-topology_random-weights/epoch-8.png (deflated 9%)\n",
            "  adding: content/linear-topology_random-weights/epoch-15.png (deflated 9%)\n",
            "  adding: content/linear-topology_random-weights/epoch-19.png (deflated 9%)\n",
            "  adding: content/linear-topology_random-weights/epoch-17.png (deflated 9%)\n",
            "  adding: content/linear-topology_random-weights/epoch-16.png (deflated 9%)\n"
          ],
          "name": "stdout"
        }
      ]
    }
  ]
}